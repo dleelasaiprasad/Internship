{
 "cells": [
  {
   "cell_type": "markdown",
   "id": "5f2f5cf4",
   "metadata": {},
   "source": [
    "# Webscraping_Assignment_3"
   ]
  },
  {
   "cell_type": "markdown",
   "id": "09d5a4f5",
   "metadata": {},
   "source": [
    "1. Write a python program which searches all the product under a particular product from www.amazon.in.\n",
    "The product to be searched will be taken as input from user. For e.g. If user input is ‘guitar’. Then search\n",
    "for guitars."
   ]
  },
  {
   "cell_type": "code",
   "execution_count": null,
   "id": "d1761bfe",
   "metadata": {},
   "outputs": [],
   "source": [
    "# Importing Libraries\n",
    "import selenium\n",
    "import pandas as pd\n",
    "# Importing selenium webdriver \n",
    "from selenium import webdriver"
   ]
  },
  {
   "cell_type": "code",
   "execution_count": null,
   "id": "28b1142f",
   "metadata": {},
   "outputs": [],
   "source": [
    "from selenium.webdriver.chrome.service import Service\n",
    "ser = Service('chromedriver.exe')  #passing the executale path into service\n",
    "driver = webdriver.Chrome(service=ser)  #directly using service to invoke webdriver\\"
   ]
  },
  {
   "cell_type": "code",
   "execution_count": null,
   "id": "e0cdde72",
   "metadata": {
    "scrolled": true
   },
   "outputs": [],
   "source": [
    "url = \"https://www.amazon.com/\"\n",
    "driver.get(url)"
   ]
  },
  {
   "cell_type": "code",
   "execution_count": null,
   "id": "7e4aec66",
   "metadata": {},
   "outputs": [],
   "source": [
    "search_input=driver.find_element_by_xpath(\"/html/body/div[1]/header/div/div[1]/div[2]/div/form/div[2]/div[1]/input\")"
   ]
  },
  {
   "cell_type": "code",
   "execution_count": null,
   "id": "fd43e77c",
   "metadata": {},
   "outputs": [],
   "source": [
    "search_input.send_keys(input(\"enter search\"))"
   ]
  },
  {
   "cell_type": "code",
   "execution_count": 35,
   "id": "d5d4086b",
   "metadata": {},
   "outputs": [
    {
     "name": "stderr",
     "output_type": "stream",
     "text": [
      "<ipython-input-35-934a5fbf6aaf>:1: DeprecationWarning: find_element_by_xpath is deprecated. Please use find_element(by=By.XPATH, value=xpath) instead\n",
      "  button = driver.find_element_by_xpath(\"/html/body/div[1]/header/div/div[1]/div[2]/div/form/div[3]/div/span/input\")\n"
     ]
    }
   ],
   "source": [
    "button = driver.find_element_by_xpath(\"/html/body/div[1]/header/div/div[1]/div[2]/div/form/div[3]/div/span/input\")\n",
    "button.click()"
   ]
  },
  {
   "cell_type": "code",
   "execution_count": null,
   "id": "302f2229",
   "metadata": {},
   "outputs": [],
   "source": []
  }
 ],
 "metadata": {
  "kernelspec": {
   "display_name": "Python 3",
   "language": "python",
   "name": "python3"
  },
  "language_info": {
   "codemirror_mode": {
    "name": "ipython",
    "version": 3
   },
   "file_extension": ".py",
   "mimetype": "text/x-python",
   "name": "python",
   "nbconvert_exporter": "python",
   "pygments_lexer": "ipython3",
   "version": "3.8.8"
  }
 },
 "nbformat": 4,
 "nbformat_minor": 5
}
